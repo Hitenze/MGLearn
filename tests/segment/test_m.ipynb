{
 "cells": [
  {
   "cell_type": "code",
   "execution_count": null,
   "metadata": {},
   "outputs": [],
   "source": [
    "import torch\n",
    "import torch.nn as nn\n",
    "import numpy as np\n",
    "import matplotlib.pyplot as plt\n",
    "import seaborn as sns\n",
    "sns.set_theme()\n",
    "from tqdm.auto import tqdm\n",
    "from helper import *\n",
    "\n",
    "params = validation_init('params_m.config', folder_level=2)\n",
    "\n",
    "from gparams import *\n",
    "from pinns import *\n",
    "from geometry import *\n",
    "from pdes import *\n",
    "\n",
    "params = validation_init_domain(params)\n",
    "params = validation_init_pde(params)\n",
    "params = validation_init_model(params)\n",
    "params = validation_train(params)\n",
    "params = validation_eval(params)\n",
    "params = plot_1dgreen_fem(params)\n",
    "\n",
    "validation_solve(params, np.ones_like, rhs_fenics=\"1\", test_name=\"one\")\n",
    "validation_solve(params, lambda x: 10*np.sin(10*x), rhs_fenics=\"10 * sin(10*x[0])\", test_name=\"10sin(10x)\", refine_level = 3)"
   ]
  }
 ],
 "metadata": {
  "kernelspec": {
   "display_name": "gprecond-cpu",
   "language": "python",
   "name": "python3"
  },
  "language_info": {
   "codemirror_mode": {
    "name": "ipython",
    "version": 3
   },
   "file_extension": ".py",
   "mimetype": "text/x-python",
   "name": "python",
   "nbconvert_exporter": "python",
   "pygments_lexer": "ipython3",
   "version": "3.12.2"
  }
 },
 "nbformat": 4,
 "nbformat_minor": 4
}
