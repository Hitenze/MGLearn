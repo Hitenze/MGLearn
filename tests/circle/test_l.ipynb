{
 "cells": [
  {
   "cell_type": "code",
   "execution_count": null,
   "metadata": {
    "vscode": {
     "languageId": "plaintext"
    }
   },
   "outputs": [],
   "source": [
    "import torch\n",
    "import torch.nn as nn\n",
    "import numpy as np\n",
    "import matplotlib.pyplot as plt\n",
    "import seaborn as sns\n",
    "sns.set_theme()\n",
    "from tqdm.auto import tqdm\n",
    "from helper import *\n",
    "\n",
    "params = validation_init('params_l.config', folder_level=2)\n",
    "\n",
    "from gparams import *\n",
    "from pinns import *\n",
    "from geometry import *\n",
    "from pdes import *\n",
    "\n",
    "params = validation_init_domain(params)\n",
    "params = validation_init_pde(params)\n",
    "params = validation_init_model(params)\n",
    "params = validation_train(params)\n",
    "params = validation_eval(params)\n",
    "\n",
    "validation_solve(params, lambda x : np.ones_like(x[:,0]), \"1\", test_name=\"one\")\n",
    "validation_solve(params, lambda x: 10 * np.sin(10*x[:,0]) * np.cos(10*x[:,1]), \n",
    "                 \"10 * sin(10*x[0])*cos(10*x[1])\", test_name=\"10sin(10x)cos(10y)\")"
   ]
  }
 ],
 "metadata": {
  "kernelspec": {
   "display_name": "Python 3 (ipykernel)",
   "language": "python",
   "name": "python3"
  },
  "language_info": {
   "codemirror_mode": {
    "name": "ipython",
    "version": 3
   },
   "file_extension": ".py",
   "mimetype": "text/x-python",
   "name": "python",
   "nbconvert_exporter": "python",
   "pygments_lexer": "ipython3",
   "version": "3.10.17"
  }
 },
 "nbformat": 4,
 "nbformat_minor": 4
}
